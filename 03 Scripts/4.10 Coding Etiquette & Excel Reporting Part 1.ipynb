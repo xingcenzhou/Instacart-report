{
 "cells": [
  {
   "cell_type": "markdown",
   "id": "f6595664",
   "metadata": {},
   "source": [
    "# 4.10 Coding Etiquette & Excel Reporting Part 1"
   ]
  },
  {
   "cell_type": "markdown",
   "id": "7348ef52",
   "metadata": {},
   "source": [
    "### This script contains the following points:\n",
    "#### 1. Import resources\n",
    "#### 2. Address PII data\n",
    "#### 3. Create a regional segmentation of the data\n",
    "#### 4. Create an exclusion flag for low-activity customers\n",
    "#### 5. Create a profiling variable"
   ]
  },
  {
   "cell_type": "markdown",
   "id": "ad3d7db6",
   "metadata": {},
   "source": [
    "Note: Part-1 delivers the end result of the dataframe \"op_with_profiles\" ready for visualization. Part-2 uses this result to create the correspondent visualizations."
   ]
  },
  {
   "cell_type": "markdown",
   "id": "b61b270f",
   "metadata": {
    "code_folding": [],
    "scrolled": true
   },
   "source": [
    "### 1. Import resources"
   ]
  },
  {
   "cell_type": "code",
   "execution_count": 1,
   "id": "0dd8aa0d",
   "metadata": {},
   "outputs": [],
   "source": [
    "# Import libs\n",
    "import pandas as pd\n",
    "import numpy as np\n",
    "import os\n",
    "import matplotlib.pyplot as plt\n",
    "import seaborn as sns\n",
    "import scipy"
   ]
  },
  {
   "cell_type": "code",
   "execution_count": 2,
   "id": "1f2dfef4",
   "metadata": {},
   "outputs": [],
   "source": [
    "# Set a path variable for the import\n",
    "path = r'C:\\Users\\zhoux\\Documents\\CF-Data Analyst Program\\DA-Immersion\\10-2023 Instacart Basket Analysis'"
   ]
  },
  {
   "cell_type": "code",
   "execution_count": 8,
   "id": "c1f7b841",
   "metadata": {},
   "outputs": [],
   "source": [
    "# Import data set\n",
    "ords_prods_merge = pd.read_pickle(os.path.join(path, '02 Data', 'Prepared Data', 'orders_products_merged_sub_customers.pkl'))"
   ]
  },
  {
   "cell_type": "markdown",
   "id": "2b8b36bf",
   "metadata": {},
   "source": [
    "### 2.  Address PII data"
   ]
  },
  {
   "cell_type": "code",
   "execution_count": 6,
   "id": "79777e12",
   "metadata": {
    "collapsed": true
   },
   "outputs": [
    {
     "data": {
      "text/html": [
       "<div>\n",
       "<style scoped>\n",
       "    .dataframe tbody tr th:only-of-type {\n",
       "        vertical-align: middle;\n",
       "    }\n",
       "\n",
       "    .dataframe tbody tr th {\n",
       "        vertical-align: top;\n",
       "    }\n",
       "\n",
       "    .dataframe thead th {\n",
       "        text-align: right;\n",
       "    }\n",
       "</style>\n",
       "<table border=\"1\" class=\"dataframe\">\n",
       "  <thead>\n",
       "    <tr style=\"text-align: right;\">\n",
       "      <th></th>\n",
       "      <th>order_id</th>\n",
       "      <th>user_id</th>\n",
       "      <th>eval_set</th>\n",
       "      <th>order_number</th>\n",
       "      <th>orders_day_of_week</th>\n",
       "      <th>order_hour_of_day</th>\n",
       "      <th>days_since_prior_order</th>\n",
       "      <th>product_id</th>\n",
       "      <th>add_to_cart_order</th>\n",
       "      <th>reordered</th>\n",
       "      <th>product_name</th>\n",
       "      <th>aisle_id</th>\n",
       "      <th>department_id</th>\n",
       "      <th>prices</th>\n",
       "      <th>price_range_loc</th>\n",
       "      <th>busiest_day</th>\n",
       "      <th>busiest_days</th>\n",
       "      <th>busiest_period_of_day</th>\n",
       "      <th>max_order</th>\n",
       "      <th>loyalty_flag</th>\n",
       "      <th>avg_prods_price</th>\n",
       "      <th>spending_flag</th>\n",
       "      <th>median_days_since_prior_order</th>\n",
       "      <th>regularity_flag</th>\n",
       "      <th>gender</th>\n",
       "      <th>state</th>\n",
       "      <th>age</th>\n",
       "      <th>n_dependents</th>\n",
       "      <th>fam_status</th>\n",
       "      <th>income</th>\n",
       "    </tr>\n",
       "  </thead>\n",
       "  <tbody>\n",
       "    <tr>\n",
       "      <th>0</th>\n",
       "      <td>2539329</td>\n",
       "      <td>1</td>\n",
       "      <td>prior</td>\n",
       "      <td>1</td>\n",
       "      <td>2</td>\n",
       "      <td>8</td>\n",
       "      <td>NaN</td>\n",
       "      <td>196</td>\n",
       "      <td>1</td>\n",
       "      <td>0</td>\n",
       "      <td>Soda</td>\n",
       "      <td>77</td>\n",
       "      <td>7</td>\n",
       "      <td>9.0</td>\n",
       "      <td>Mid-range product</td>\n",
       "      <td>Regularly busy</td>\n",
       "      <td>Regularly busy</td>\n",
       "      <td>Average orders</td>\n",
       "      <td>10</td>\n",
       "      <td>New customer</td>\n",
       "      <td>6.367797</td>\n",
       "      <td>Low spender</td>\n",
       "      <td>20.5</td>\n",
       "      <td>Non-frequent customer</td>\n",
       "      <td>Female</td>\n",
       "      <td>Alabama</td>\n",
       "      <td>31</td>\n",
       "      <td>3</td>\n",
       "      <td>married</td>\n",
       "      <td>40423</td>\n",
       "    </tr>\n",
       "    <tr>\n",
       "      <th>1</th>\n",
       "      <td>2398795</td>\n",
       "      <td>1</td>\n",
       "      <td>prior</td>\n",
       "      <td>2</td>\n",
       "      <td>3</td>\n",
       "      <td>7</td>\n",
       "      <td>15.0</td>\n",
       "      <td>196</td>\n",
       "      <td>1</td>\n",
       "      <td>1</td>\n",
       "      <td>Soda</td>\n",
       "      <td>77</td>\n",
       "      <td>7</td>\n",
       "      <td>9.0</td>\n",
       "      <td>Mid-range product</td>\n",
       "      <td>Regularly busy</td>\n",
       "      <td>Least busiest days</td>\n",
       "      <td>Average orders</td>\n",
       "      <td>10</td>\n",
       "      <td>New customer</td>\n",
       "      <td>6.367797</td>\n",
       "      <td>Low spender</td>\n",
       "      <td>20.5</td>\n",
       "      <td>Non-frequent customer</td>\n",
       "      <td>Female</td>\n",
       "      <td>Alabama</td>\n",
       "      <td>31</td>\n",
       "      <td>3</td>\n",
       "      <td>married</td>\n",
       "      <td>40423</td>\n",
       "    </tr>\n",
       "    <tr>\n",
       "      <th>2</th>\n",
       "      <td>473747</td>\n",
       "      <td>1</td>\n",
       "      <td>prior</td>\n",
       "      <td>3</td>\n",
       "      <td>3</td>\n",
       "      <td>12</td>\n",
       "      <td>21.0</td>\n",
       "      <td>196</td>\n",
       "      <td>1</td>\n",
       "      <td>1</td>\n",
       "      <td>Soda</td>\n",
       "      <td>77</td>\n",
       "      <td>7</td>\n",
       "      <td>9.0</td>\n",
       "      <td>Mid-range product</td>\n",
       "      <td>Regularly busy</td>\n",
       "      <td>Least busiest days</td>\n",
       "      <td>Most orders</td>\n",
       "      <td>10</td>\n",
       "      <td>New customer</td>\n",
       "      <td>6.367797</td>\n",
       "      <td>Low spender</td>\n",
       "      <td>20.5</td>\n",
       "      <td>Non-frequent customer</td>\n",
       "      <td>Female</td>\n",
       "      <td>Alabama</td>\n",
       "      <td>31</td>\n",
       "      <td>3</td>\n",
       "      <td>married</td>\n",
       "      <td>40423</td>\n",
       "    </tr>\n",
       "    <tr>\n",
       "      <th>3</th>\n",
       "      <td>2254736</td>\n",
       "      <td>1</td>\n",
       "      <td>prior</td>\n",
       "      <td>4</td>\n",
       "      <td>4</td>\n",
       "      <td>7</td>\n",
       "      <td>29.0</td>\n",
       "      <td>196</td>\n",
       "      <td>1</td>\n",
       "      <td>1</td>\n",
       "      <td>Soda</td>\n",
       "      <td>77</td>\n",
       "      <td>7</td>\n",
       "      <td>9.0</td>\n",
       "      <td>Mid-range product</td>\n",
       "      <td>Least busiest day</td>\n",
       "      <td>Least busiest days</td>\n",
       "      <td>Average orders</td>\n",
       "      <td>10</td>\n",
       "      <td>New customer</td>\n",
       "      <td>6.367797</td>\n",
       "      <td>Low spender</td>\n",
       "      <td>20.5</td>\n",
       "      <td>Non-frequent customer</td>\n",
       "      <td>Female</td>\n",
       "      <td>Alabama</td>\n",
       "      <td>31</td>\n",
       "      <td>3</td>\n",
       "      <td>married</td>\n",
       "      <td>40423</td>\n",
       "    </tr>\n",
       "    <tr>\n",
       "      <th>4</th>\n",
       "      <td>431534</td>\n",
       "      <td>1</td>\n",
       "      <td>prior</td>\n",
       "      <td>5</td>\n",
       "      <td>4</td>\n",
       "      <td>15</td>\n",
       "      <td>28.0</td>\n",
       "      <td>196</td>\n",
       "      <td>1</td>\n",
       "      <td>1</td>\n",
       "      <td>Soda</td>\n",
       "      <td>77</td>\n",
       "      <td>7</td>\n",
       "      <td>9.0</td>\n",
       "      <td>Mid-range product</td>\n",
       "      <td>Least busiest day</td>\n",
       "      <td>Least busiest days</td>\n",
       "      <td>Most orders</td>\n",
       "      <td>10</td>\n",
       "      <td>New customer</td>\n",
       "      <td>6.367797</td>\n",
       "      <td>Low spender</td>\n",
       "      <td>20.5</td>\n",
       "      <td>Non-frequent customer</td>\n",
       "      <td>Female</td>\n",
       "      <td>Alabama</td>\n",
       "      <td>31</td>\n",
       "      <td>3</td>\n",
       "      <td>married</td>\n",
       "      <td>40423</td>\n",
       "    </tr>\n",
       "  </tbody>\n",
       "</table>\n",
       "</div>"
      ],
      "text/plain": [
       "   order_id user_id eval_set  order_number  orders_day_of_week  \\\n",
       "0   2539329       1    prior             1                   2   \n",
       "1   2398795       1    prior             2                   3   \n",
       "2    473747       1    prior             3                   3   \n",
       "3   2254736       1    prior             4                   4   \n",
       "4    431534       1    prior             5                   4   \n",
       "\n",
       "   order_hour_of_day  days_since_prior_order  product_id  add_to_cart_order  \\\n",
       "0                  8                     NaN         196                  1   \n",
       "1                  7                    15.0         196                  1   \n",
       "2                 12                    21.0         196                  1   \n",
       "3                  7                    29.0         196                  1   \n",
       "4                 15                    28.0         196                  1   \n",
       "\n",
       "   reordered product_name  aisle_id  department_id  prices    price_range_loc  \\\n",
       "0          0         Soda        77              7     9.0  Mid-range product   \n",
       "1          1         Soda        77              7     9.0  Mid-range product   \n",
       "2          1         Soda        77              7     9.0  Mid-range product   \n",
       "3          1         Soda        77              7     9.0  Mid-range product   \n",
       "4          1         Soda        77              7     9.0  Mid-range product   \n",
       "\n",
       "         busiest_day        busiest_days busiest_period_of_day  max_order  \\\n",
       "0     Regularly busy      Regularly busy        Average orders         10   \n",
       "1     Regularly busy  Least busiest days        Average orders         10   \n",
       "2     Regularly busy  Least busiest days           Most orders         10   \n",
       "3  Least busiest day  Least busiest days        Average orders         10   \n",
       "4  Least busiest day  Least busiest days           Most orders         10   \n",
       "\n",
       "   loyalty_flag  avg_prods_price spending_flag  median_days_since_prior_order  \\\n",
       "0  New customer         6.367797   Low spender                           20.5   \n",
       "1  New customer         6.367797   Low spender                           20.5   \n",
       "2  New customer         6.367797   Low spender                           20.5   \n",
       "3  New customer         6.367797   Low spender                           20.5   \n",
       "4  New customer         6.367797   Low spender                           20.5   \n",
       "\n",
       "         regularity_flag  gender    state  age  n_dependents fam_status  \\\n",
       "0  Non-frequent customer  Female  Alabama   31             3    married   \n",
       "1  Non-frequent customer  Female  Alabama   31             3    married   \n",
       "2  Non-frequent customer  Female  Alabama   31             3    married   \n",
       "3  Non-frequent customer  Female  Alabama   31             3    married   \n",
       "4  Non-frequent customer  Female  Alabama   31             3    married   \n",
       "\n",
       "   income  \n",
       "0   40423  \n",
       "1   40423  \n",
       "2   40423  \n",
       "3   40423  \n",
       "4   40423  "
      ]
     },
     "execution_count": 6,
     "metadata": {},
     "output_type": "execute_result"
    }
   ],
   "source": [
    "# Display all columns in the dataframe to find anything related to PII\n",
    "pd.set_option('display.max_columns', None)\n",
    "ords_prods_merge.head()"
   ]
  },
  {
   "cell_type": "markdown",
   "id": "501b4594",
   "metadata": {},
   "source": [
    "The dataframe contains information about the customer's gender, state, age, number of dependents, family status and income. As we left out the name columns, these information is sensitive personal information but can't be used to directly identify a specific person. However, it is possible to put the pieces of information together, and it will be easy to figure out a customer's identity. \n",
    "We must to use a trustworthy encryption service and limit the data access strictly to people who are directly related to the data section of this project."
   ]
  },
  {
   "cell_type": "markdown",
   "id": "875574e3",
   "metadata": {},
   "source": [
    "### 3. Create a regional segmentation of the data"
   ]
  },
  {
   "cell_type": "code",
   "execution_count": 7,
   "id": "db8b4c60",
   "metadata": {
    "code_folding": []
   },
   "outputs": [],
   "source": [
    "# Create an empty list \"result\" to store the region value, \n",
    "# after categorizing the 'state' column in ords_prods_merge.\n",
    "result = []\n",
    "for value in ords_prods_merge['state']:\n",
    "    if value == 'Maine' or value == 'New Hampshire' or value == 'Vermont' or \\\n",
    "        value == 'Massachusetts' or value == 'Rhode Island' or value == 'Connecticut' or \\\n",
    "        value == 'New York' or value == 'Pennsylvania' or value == 'New Jersey':\n",
    "        result.append('Northeast')\n",
    "    elif value == 'Wisconsin'or value == 'Michigan' or value =='Illinois' or \\\n",
    "          value == 'Indiana' or value == 'Ohio' or value == 'North Dakota' or \\\n",
    "          value == 'South Dakota' or value == 'Nebraska' or value == 'Kansas' or \\\n",
    "          value == 'Minnesota' or value == 'Iowa' or value == 'Missouri':\n",
    "          result.append('Midwest')\n",
    "    elif value == 'Delaware' or value == 'Maryland' or value == 'District of Columbia' or \\\n",
    "          value == 'Virginia' or value == 'West Virginia' or value == 'North Carolina' or \\\n",
    "          value == 'South Carolina' or value == 'Georgia' or value == 'Florida' or \\\n",
    "          value == 'Kentucky' or value == 'Tennessee' or value == 'Mississippi' or \\\n",
    "          value == 'Alabama' or value == 'Oklahoma' or value == 'Texas' or \\\n",
    "          value == 'Arkansas' or value == 'Louisiana':\n",
    "          result.append('South')\n",
    "    elif value == 'Idaho' or value == 'Montana' or value == 'Wyoming' or value == 'Nevada' or \\\n",
    "          value == 'Utah' or value == 'Colorado' or value == 'Arizona' or \\\n",
    "          value == 'New Mexico' or value == 'Alaska' or value == 'Washington' or \\\n",
    "          value == 'Oregon' or value == 'California' or value == 'Hawaii':\n",
    "          result.append('West')"
   ]
  },
  {
   "cell_type": "code",
   "execution_count": 8,
   "id": "0f4832e0",
   "metadata": {},
   "outputs": [],
   "source": [
    "# Create a new column 'region' in ords_prods_merge and fill it with the values in 'result'\n",
    "ords_prods_merge['region'] = result"
   ]
  },
  {
   "cell_type": "code",
   "execution_count": 9,
   "id": "ec40f8a8",
   "metadata": {
    "collapsed": true
   },
   "outputs": [
    {
     "data": {
      "text/plain": [
       "region\n",
       "South        10791885\n",
       "West          8292913\n",
       "Midwest       7597325\n",
       "Northeast     5722736\n",
       "Name: count, dtype: int64"
      ]
     },
     "execution_count": 9,
     "metadata": {},
     "output_type": "execute_result"
    }
   ],
   "source": [
    "# Look at value distributions to make sure there are no mistakes\n",
    "ords_prods_merge['region'].value_counts(dropna = False)"
   ]
  },
  {
   "cell_type": "code",
   "execution_count": 10,
   "id": "72ed296a",
   "metadata": {},
   "outputs": [],
   "source": [
    "crosstab_region_spending = pd.crosstab(ords_prods_merge['region'],\n",
    "                           ords_prods_merge['spending_flag'], dropna = False)"
   ]
  },
  {
   "cell_type": "code",
   "execution_count": 11,
   "id": "b3f45561",
   "metadata": {
    "collapsed": true
   },
   "outputs": [
    {
     "data": {
      "text/html": [
       "<div>\n",
       "<style scoped>\n",
       "    .dataframe tbody tr th:only-of-type {\n",
       "        vertical-align: middle;\n",
       "    }\n",
       "\n",
       "    .dataframe tbody tr th {\n",
       "        vertical-align: top;\n",
       "    }\n",
       "\n",
       "    .dataframe thead th {\n",
       "        text-align: right;\n",
       "    }\n",
       "</style>\n",
       "<table border=\"1\" class=\"dataframe\">\n",
       "  <thead>\n",
       "    <tr style=\"text-align: right;\">\n",
       "      <th>spending_flag</th>\n",
       "      <th>High spender</th>\n",
       "      <th>Low spender</th>\n",
       "    </tr>\n",
       "    <tr>\n",
       "      <th>region</th>\n",
       "      <th></th>\n",
       "      <th></th>\n",
       "    </tr>\n",
       "  </thead>\n",
       "  <tbody>\n",
       "    <tr>\n",
       "      <th>Midwest</th>\n",
       "      <td>155975</td>\n",
       "      <td>7441350</td>\n",
       "    </tr>\n",
       "    <tr>\n",
       "      <th>Northeast</th>\n",
       "      <td>108225</td>\n",
       "      <td>5614511</td>\n",
       "    </tr>\n",
       "    <tr>\n",
       "      <th>South</th>\n",
       "      <td>209691</td>\n",
       "      <td>10582194</td>\n",
       "    </tr>\n",
       "    <tr>\n",
       "      <th>West</th>\n",
       "      <td>160354</td>\n",
       "      <td>8132559</td>\n",
       "    </tr>\n",
       "  </tbody>\n",
       "</table>\n",
       "</div>"
      ],
      "text/plain": [
       "spending_flag  High spender  Low spender\n",
       "region                                  \n",
       "Midwest              155975      7441350\n",
       "Northeast            108225      5614511\n",
       "South                209691     10582194\n",
       "West                 160354      8132559"
      ]
     },
     "execution_count": 11,
     "metadata": {},
     "output_type": "execute_result"
    }
   ],
   "source": [
    "crosstab_region_spending"
   ]
  },
  {
   "cell_type": "markdown",
   "id": "f8bf90df",
   "metadata": {},
   "source": [
    "Although the South region has the highest customer number, after further calculation in Excel, it seems that the percentage of high spenders is similar across all regions: </br>\n",
    "Midwest - 2.05%, </br>\n",
    "Northeast - 1.89%, </br>\n",
    "South - 1.94%, </br>\n",
    "West - 1.93%. </br>\n",
    "There isn't a significant correlation between regions and spending habits."
   ]
  },
  {
   "cell_type": "markdown",
   "id": "32b2d47d",
   "metadata": {},
   "source": [
    "### 4. Create an exclusion flag for low-activity customers"
   ]
  },
  {
   "cell_type": "code",
   "execution_count": 12,
   "id": "ff260fe4",
   "metadata": {},
   "outputs": [],
   "source": [
    "# Filter the customers with lesser than 5 orders and mark them as \"exclude\".\n",
    "# To avoid nulls I also marked the rest as \"Include\".\n",
    "ords_prods_merge.loc[ords_prods_merge['max_order'] < 5, 'low_act_exclusion_flag'] = 'Exclude'\n",
    "ords_prods_merge.loc[ords_prods_merge['max_order'] >= 5, 'low_act_exclusion_flag'] = 'Include'"
   ]
  },
  {
   "cell_type": "code",
   "execution_count": 13,
   "id": "8166010f",
   "metadata": {},
   "outputs": [
    {
     "data": {
      "text/plain": [
       "low_act_exclusion_flag\n",
       "Include    30964564\n",
       "Exclude     1440295\n",
       "Name: count, dtype: int64"
      ]
     },
     "execution_count": 13,
     "metadata": {},
     "output_type": "execute_result"
    }
   ],
   "source": [
    "# Check whether the flag was successfully created\n",
    "ords_prods_merge['low_act_exclusion_flag'].value_counts(dropna = False)"
   ]
  },
  {
   "cell_type": "code",
   "execution_count": 14,
   "id": "a753bf50",
   "metadata": {},
   "outputs": [],
   "source": [
    "# Create a new dataframe that excludes the low activity customers\n",
    "op_active_customers = ords_prods_merge[ords_prods_merge['low_act_exclusion_flag'] != 'Exclude']"
   ]
  },
  {
   "cell_type": "code",
   "execution_count": 15,
   "id": "7368d707",
   "metadata": {},
   "outputs": [
    {
     "data": {
      "text/plain": [
       "low_act_exclusion_flag\n",
       "Include    30964564\n",
       "Name: count, dtype: int64"
      ]
     },
     "execution_count": 15,
     "metadata": {},
     "output_type": "execute_result"
    }
   ],
   "source": [
    "# Check whether the new dataframe has the correct flag value\n",
    "op_active_customers['low_act_exclusion_flag'].value_counts(dropna = False)"
   ]
  },
  {
   "cell_type": "code",
   "execution_count": 16,
   "id": "c08198e3",
   "metadata": {},
   "outputs": [],
   "source": [
    "# Export the new dataframe\n",
    "op_active_customers.to_pickle(os.path.join(path, '02 Data','Prepared Data', 'orders_products_merged_active_customers.pkl'))"
   ]
  },
  {
   "cell_type": "markdown",
   "id": "999b4b71",
   "metadata": {},
   "source": [
    "### 5. Create a profiling variable"
   ]
  },
  {
   "cell_type": "markdown",
   "id": "7bae12e0",
   "metadata": {},
   "source": [
    "From this point on, I will use op_active_customers, the dataframe that excludes low activity customers."
   ]
  },
  {
   "cell_type": "code",
   "execution_count": 9,
   "id": "30dbf9e7",
   "metadata": {},
   "outputs": [],
   "source": [
    "op_active_customers = op_active_customers.drop(['low_act_exclusion_flag'], axis=1)"
   ]
  },
  {
   "cell_type": "code",
   "execution_count": 11,
   "id": "863df8c6",
   "metadata": {
    "collapsed": true
   },
   "outputs": [
    {
     "data": {
      "text/html": [
       "<div>\n",
       "<style scoped>\n",
       "    .dataframe tbody tr th:only-of-type {\n",
       "        vertical-align: middle;\n",
       "    }\n",
       "\n",
       "    .dataframe tbody tr th {\n",
       "        vertical-align: top;\n",
       "    }\n",
       "\n",
       "    .dataframe thead th {\n",
       "        text-align: right;\n",
       "    }\n",
       "</style>\n",
       "<table border=\"1\" class=\"dataframe\">\n",
       "  <thead>\n",
       "    <tr style=\"text-align: right;\">\n",
       "      <th></th>\n",
       "      <th>order_id</th>\n",
       "      <th>user_id</th>\n",
       "      <th>eval_set</th>\n",
       "      <th>order_number</th>\n",
       "      <th>orders_day_of_week</th>\n",
       "      <th>order_hour_of_day</th>\n",
       "      <th>days_since_prior_order</th>\n",
       "      <th>product_id</th>\n",
       "      <th>add_to_cart_order</th>\n",
       "      <th>reordered</th>\n",
       "      <th>...</th>\n",
       "      <th>regularity_flag</th>\n",
       "      <th>gender</th>\n",
       "      <th>state</th>\n",
       "      <th>age</th>\n",
       "      <th>n_dependents</th>\n",
       "      <th>fam_status</th>\n",
       "      <th>income</th>\n",
       "      <th>region</th>\n",
       "      <th>age_group</th>\n",
       "      <th>income_group</th>\n",
       "    </tr>\n",
       "  </thead>\n",
       "  <tbody>\n",
       "    <tr>\n",
       "      <th>0</th>\n",
       "      <td>2539329</td>\n",
       "      <td>1</td>\n",
       "      <td>prior</td>\n",
       "      <td>1</td>\n",
       "      <td>2</td>\n",
       "      <td>8</td>\n",
       "      <td>NaN</td>\n",
       "      <td>196</td>\n",
       "      <td>1</td>\n",
       "      <td>0</td>\n",
       "      <td>...</td>\n",
       "      <td>Non-frequent customer</td>\n",
       "      <td>Female</td>\n",
       "      <td>Alabama</td>\n",
       "      <td>31</td>\n",
       "      <td>3</td>\n",
       "      <td>married</td>\n",
       "      <td>40423</td>\n",
       "      <td>South</td>\n",
       "      <td>18-33</td>\n",
       "      <td>Low</td>\n",
       "    </tr>\n",
       "    <tr>\n",
       "      <th>1</th>\n",
       "      <td>2398795</td>\n",
       "      <td>1</td>\n",
       "      <td>prior</td>\n",
       "      <td>2</td>\n",
       "      <td>3</td>\n",
       "      <td>7</td>\n",
       "      <td>15.0</td>\n",
       "      <td>196</td>\n",
       "      <td>1</td>\n",
       "      <td>1</td>\n",
       "      <td>...</td>\n",
       "      <td>Non-frequent customer</td>\n",
       "      <td>Female</td>\n",
       "      <td>Alabama</td>\n",
       "      <td>31</td>\n",
       "      <td>3</td>\n",
       "      <td>married</td>\n",
       "      <td>40423</td>\n",
       "      <td>South</td>\n",
       "      <td>18-33</td>\n",
       "      <td>Low</td>\n",
       "    </tr>\n",
       "    <tr>\n",
       "      <th>2</th>\n",
       "      <td>473747</td>\n",
       "      <td>1</td>\n",
       "      <td>prior</td>\n",
       "      <td>3</td>\n",
       "      <td>3</td>\n",
       "      <td>12</td>\n",
       "      <td>21.0</td>\n",
       "      <td>196</td>\n",
       "      <td>1</td>\n",
       "      <td>1</td>\n",
       "      <td>...</td>\n",
       "      <td>Non-frequent customer</td>\n",
       "      <td>Female</td>\n",
       "      <td>Alabama</td>\n",
       "      <td>31</td>\n",
       "      <td>3</td>\n",
       "      <td>married</td>\n",
       "      <td>40423</td>\n",
       "      <td>South</td>\n",
       "      <td>18-33</td>\n",
       "      <td>Low</td>\n",
       "    </tr>\n",
       "    <tr>\n",
       "      <th>3</th>\n",
       "      <td>2254736</td>\n",
       "      <td>1</td>\n",
       "      <td>prior</td>\n",
       "      <td>4</td>\n",
       "      <td>4</td>\n",
       "      <td>7</td>\n",
       "      <td>29.0</td>\n",
       "      <td>196</td>\n",
       "      <td>1</td>\n",
       "      <td>1</td>\n",
       "      <td>...</td>\n",
       "      <td>Non-frequent customer</td>\n",
       "      <td>Female</td>\n",
       "      <td>Alabama</td>\n",
       "      <td>31</td>\n",
       "      <td>3</td>\n",
       "      <td>married</td>\n",
       "      <td>40423</td>\n",
       "      <td>South</td>\n",
       "      <td>18-33</td>\n",
       "      <td>Low</td>\n",
       "    </tr>\n",
       "    <tr>\n",
       "      <th>4</th>\n",
       "      <td>431534</td>\n",
       "      <td>1</td>\n",
       "      <td>prior</td>\n",
       "      <td>5</td>\n",
       "      <td>4</td>\n",
       "      <td>15</td>\n",
       "      <td>28.0</td>\n",
       "      <td>196</td>\n",
       "      <td>1</td>\n",
       "      <td>1</td>\n",
       "      <td>...</td>\n",
       "      <td>Non-frequent customer</td>\n",
       "      <td>Female</td>\n",
       "      <td>Alabama</td>\n",
       "      <td>31</td>\n",
       "      <td>3</td>\n",
       "      <td>married</td>\n",
       "      <td>40423</td>\n",
       "      <td>South</td>\n",
       "      <td>18-33</td>\n",
       "      <td>Low</td>\n",
       "    </tr>\n",
       "  </tbody>\n",
       "</table>\n",
       "<p>5 rows × 33 columns</p>\n",
       "</div>"
      ],
      "text/plain": [
       "   order_id user_id eval_set  order_number  orders_day_of_week  \\\n",
       "0   2539329       1    prior             1                   2   \n",
       "1   2398795       1    prior             2                   3   \n",
       "2    473747       1    prior             3                   3   \n",
       "3   2254736       1    prior             4                   4   \n",
       "4    431534       1    prior             5                   4   \n",
       "\n",
       "   order_hour_of_day  days_since_prior_order  product_id  add_to_cart_order  \\\n",
       "0                  8                     NaN         196                  1   \n",
       "1                  7                    15.0         196                  1   \n",
       "2                 12                    21.0         196                  1   \n",
       "3                  7                    29.0         196                  1   \n",
       "4                 15                    28.0         196                  1   \n",
       "\n",
       "   reordered  ...        regularity_flag  gender    state  age n_dependents  \\\n",
       "0          0  ...  Non-frequent customer  Female  Alabama   31            3   \n",
       "1          1  ...  Non-frequent customer  Female  Alabama   31            3   \n",
       "2          1  ...  Non-frequent customer  Female  Alabama   31            3   \n",
       "3          1  ...  Non-frequent customer  Female  Alabama   31            3   \n",
       "4          1  ...  Non-frequent customer  Female  Alabama   31            3   \n",
       "\n",
       "  fam_status income region  age_group income_group  \n",
       "0    married  40423  South      18-33          Low  \n",
       "1    married  40423  South      18-33          Low  \n",
       "2    married  40423  South      18-33          Low  \n",
       "3    married  40423  South      18-33          Low  \n",
       "4    married  40423  South      18-33          Low  \n",
       "\n",
       "[5 rows x 33 columns]"
      ]
     },
     "execution_count": 11,
     "metadata": {},
     "output_type": "execute_result"
    }
   ],
   "source": [
    "op_active_customers.head()"
   ]
  },
  {
   "cell_type": "markdown",
   "id": "435900e4",
   "metadata": {},
   "source": [
    "The below steps create a profiling variable based on \n",
    "1. Age\n",
    "2. Income\n",
    "3. Certain goods in the “department_id” column\n",
    "4. Number of dependent\n",
    "5. Purchase of baby products and family status"
   ]
  },
  {
   "cell_type": "markdown",
   "id": "19339963",
   "metadata": {},
   "source": [
    "#####  Create age groups:\n"
   ]
  },
  {
   "cell_type": "code",
   "execution_count": 12,
   "id": "a94950f8",
   "metadata": {
    "collapsed": true
   },
   "outputs": [
    {
     "data": {
      "text/plain": [
       "count    3.096456e+07\n",
       "mean     4.946803e+01\n",
       "std      1.848528e+01\n",
       "min      1.800000e+01\n",
       "25%      3.300000e+01\n",
       "50%      4.900000e+01\n",
       "75%      6.500000e+01\n",
       "max      8.100000e+01\n",
       "Name: age, dtype: float64"
      ]
     },
     "execution_count": 12,
     "metadata": {},
     "output_type": "execute_result"
    }
   ],
   "source": [
    "# Look at the basic stats of Age\n",
    "op_active_customers['age'].describe()"
   ]
  },
  {
   "cell_type": "markdown",
   "id": "eccac025",
   "metadata": {},
   "source": [
    "We can see that the age ranges from 18-81. Based on the states, I divide the age in to 4 groups: 18-29. 30-39. 40-49, 50-59, 60-69, 70-81"
   ]
  },
  {
   "cell_type": "code",
   "execution_count": 26,
   "id": "6820f2f4",
   "metadata": {},
   "outputs": [],
   "source": [
    "op_active_customers.loc[(op_active_customers['age'] >= 18) & (op_active_customers['age'] <= 29), 'age_group'] = '18-29'"
   ]
  },
  {
   "cell_type": "code",
   "execution_count": 27,
   "id": "b3ee56a5",
   "metadata": {},
   "outputs": [],
   "source": [
    "op_active_customers.loc[(op_active_customers['age'] >= 30) & (op_active_customers['age'] <= 39), 'age_group'] = '30-39'"
   ]
  },
  {
   "cell_type": "code",
   "execution_count": 28,
   "id": "d0736287",
   "metadata": {},
   "outputs": [],
   "source": [
    "op_active_customers.loc[(op_active_customers['age'] >= 40) & (op_active_customers['age'] <= 49), 'age_group'] = '40-49'    "
   ]
  },
  {
   "cell_type": "code",
   "execution_count": 29,
   "id": "24a235f0",
   "metadata": {},
   "outputs": [],
   "source": [
    "op_active_customers.loc[(op_active_customers['age'] >= 50) & (op_active_customers['age'] <= 59), 'age_group'] = '50-59'    "
   ]
  },
  {
   "cell_type": "code",
   "execution_count": 30,
   "id": "8cc67f92",
   "metadata": {},
   "outputs": [],
   "source": [
    "op_active_customers.loc[(op_active_customers['age'] >= 60) & (op_active_customers['age'] <= 69), 'age_group'] = '60-69'    "
   ]
  },
  {
   "cell_type": "code",
   "execution_count": 31,
   "id": "06d4e687",
   "metadata": {},
   "outputs": [],
   "source": [
    "op_active_customers.loc[(op_active_customers['age'] >= 70) & (op_active_customers['age'] <= 81), 'age_group'] = '70-81'    "
   ]
  },
  {
   "cell_type": "code",
   "execution_count": 32,
   "id": "24cf0ff8",
   "metadata": {
    "collapsed": true
   },
   "outputs": [
    {
     "data": {
      "text/plain": [
       "age_group\n",
       "18-29    5817603\n",
       "70-81    5812883\n",
       "40-49    4883179\n",
       "30-39    4847507\n",
       "50-59    4841771\n",
       "60-69    4761621\n",
       "Name: count, dtype: int64"
      ]
     },
     "execution_count": 32,
     "metadata": {},
     "output_type": "execute_result"
    }
   ],
   "source": [
    "# Check whether the grouping is successful\n",
    "op_active_customers['age_group'].value_counts(dropna=False)"
   ]
  },
  {
   "cell_type": "markdown",
   "id": "663a4c8b",
   "metadata": {},
   "source": [
    "##### Create income groups:"
   ]
  },
  {
   "cell_type": "code",
   "execution_count": 29,
   "id": "f31488aa",
   "metadata": {
    "collapsed": true
   },
   "outputs": [
    {
     "data": {
      "text/plain": [
       "count    3.096456e+07\n",
       "mean     9.967587e+04\n",
       "std      4.314187e+04\n",
       "min      2.590300e+04\n",
       "25%      6.729200e+04\n",
       "50%      9.676500e+04\n",
       "75%      1.281020e+05\n",
       "max      5.939010e+05\n",
       "Name: income, dtype: float64"
      ]
     },
     "execution_count": 29,
     "metadata": {},
     "output_type": "execute_result"
    }
   ],
   "source": [
    "# Look at the basic stats of Income\n",
    "op_active_customers['income'].describe()"
   ]
  },
  {
   "cell_type": "markdown",
   "id": "e6b67865",
   "metadata": {},
   "source": [
    "The stats shows that the income ranges from 25,903 - 593,901. \n",
    "Based on the stats, I divide the income into 4 groups:\n",
    "1. 'Low' 25k-50k\n",
    "2. 'Lower Middle' 50k-75k\n",
    "3. 'Upper Middle' 75k-100k\n",
    "4. 'High' 100k+"
   ]
  },
  {
   "cell_type": "code",
   "execution_count": 35,
   "id": "eb46349b",
   "metadata": {},
   "outputs": [],
   "source": [
    "op_active_customers.loc[op_active_customers['income'] <= 50000, 'income_group'] = 'Low'"
   ]
  },
  {
   "cell_type": "code",
   "execution_count": 36,
   "id": "5c8ab579",
   "metadata": {},
   "outputs": [],
   "source": [
    "op_active_customers.loc[(op_active_customers['income'] > 50000) & (op_active_customers['income'] <= 75000), 'income_group'] = 'Lower Middle'"
   ]
  },
  {
   "cell_type": "code",
   "execution_count": 37,
   "id": "72c47d73",
   "metadata": {},
   "outputs": [],
   "source": [
    "op_active_customers.loc[(op_active_customers['income'] > 75000) & (op_active_customers['income'] <= 100000), 'income_group'] = 'Upper Middle'"
   ]
  },
  {
   "cell_type": "code",
   "execution_count": 38,
   "id": "22a01278",
   "metadata": {},
   "outputs": [],
   "source": [
    "op_active_customers.loc[(op_active_customers['income'] > 100000), 'income_group'] = 'High'"
   ]
  },
  {
   "cell_type": "code",
   "execution_count": 39,
   "id": "cdab605e",
   "metadata": {
    "collapsed": true
   },
   "outputs": [
    {
     "data": {
      "text/plain": [
       "income_group\n",
       "High            14207028\n",
       "Upper Middle     6850802\n",
       "Lower Middle     6544180\n",
       "Low              3362554\n",
       "Name: count, dtype: int64"
      ]
     },
     "execution_count": 39,
     "metadata": {},
     "output_type": "execute_result"
    }
   ],
   "source": [
    "# Check whether the grouping is successful\n",
    "op_active_customers['income_group'].value_counts(dropna=False)"
   ]
  },
  {
   "cell_type": "markdown",
   "id": "673e0e5c",
   "metadata": {},
   "source": [
    "##### Create groups of certain goods in the “department_id” column"
   ]
  },
  {
   "cell_type": "code",
   "execution_count": 19,
   "id": "4fd96267",
   "metadata": {},
   "outputs": [],
   "source": [
    "# Import departments_wrangled.csv\n",
    "df_departments = pd.read_csv(os.path.join(path,'02 Data', 'Prepared Data', 'departments_wrangled.csv'))"
   ]
  },
  {
   "cell_type": "code",
   "execution_count": 20,
   "id": "2acf55bc",
   "metadata": {
    "collapsed": true
   },
   "outputs": [
    {
     "data": {
      "text/html": [
       "<div>\n",
       "<style scoped>\n",
       "    .dataframe tbody tr th:only-of-type {\n",
       "        vertical-align: middle;\n",
       "    }\n",
       "\n",
       "    .dataframe tbody tr th {\n",
       "        vertical-align: top;\n",
       "    }\n",
       "\n",
       "    .dataframe thead th {\n",
       "        text-align: right;\n",
       "    }\n",
       "</style>\n",
       "<table border=\"1\" class=\"dataframe\">\n",
       "  <thead>\n",
       "    <tr style=\"text-align: right;\">\n",
       "      <th></th>\n",
       "      <th>Unnamed: 0</th>\n",
       "      <th>department</th>\n",
       "    </tr>\n",
       "  </thead>\n",
       "  <tbody>\n",
       "    <tr>\n",
       "      <th>0</th>\n",
       "      <td>1</td>\n",
       "      <td>frozen</td>\n",
       "    </tr>\n",
       "    <tr>\n",
       "      <th>1</th>\n",
       "      <td>2</td>\n",
       "      <td>other</td>\n",
       "    </tr>\n",
       "    <tr>\n",
       "      <th>2</th>\n",
       "      <td>3</td>\n",
       "      <td>bakery</td>\n",
       "    </tr>\n",
       "    <tr>\n",
       "      <th>3</th>\n",
       "      <td>4</td>\n",
       "      <td>produce</td>\n",
       "    </tr>\n",
       "    <tr>\n",
       "      <th>4</th>\n",
       "      <td>5</td>\n",
       "      <td>alcohol</td>\n",
       "    </tr>\n",
       "    <tr>\n",
       "      <th>5</th>\n",
       "      <td>6</td>\n",
       "      <td>international</td>\n",
       "    </tr>\n",
       "    <tr>\n",
       "      <th>6</th>\n",
       "      <td>7</td>\n",
       "      <td>beverages</td>\n",
       "    </tr>\n",
       "    <tr>\n",
       "      <th>7</th>\n",
       "      <td>8</td>\n",
       "      <td>pets</td>\n",
       "    </tr>\n",
       "    <tr>\n",
       "      <th>8</th>\n",
       "      <td>9</td>\n",
       "      <td>dry goods pasta</td>\n",
       "    </tr>\n",
       "    <tr>\n",
       "      <th>9</th>\n",
       "      <td>10</td>\n",
       "      <td>bulk</td>\n",
       "    </tr>\n",
       "    <tr>\n",
       "      <th>10</th>\n",
       "      <td>11</td>\n",
       "      <td>personal care</td>\n",
       "    </tr>\n",
       "    <tr>\n",
       "      <th>11</th>\n",
       "      <td>12</td>\n",
       "      <td>meat seafood</td>\n",
       "    </tr>\n",
       "    <tr>\n",
       "      <th>12</th>\n",
       "      <td>13</td>\n",
       "      <td>pantry</td>\n",
       "    </tr>\n",
       "    <tr>\n",
       "      <th>13</th>\n",
       "      <td>14</td>\n",
       "      <td>breakfast</td>\n",
       "    </tr>\n",
       "    <tr>\n",
       "      <th>14</th>\n",
       "      <td>15</td>\n",
       "      <td>canned goods</td>\n",
       "    </tr>\n",
       "    <tr>\n",
       "      <th>15</th>\n",
       "      <td>16</td>\n",
       "      <td>dairy eggs</td>\n",
       "    </tr>\n",
       "    <tr>\n",
       "      <th>16</th>\n",
       "      <td>17</td>\n",
       "      <td>household</td>\n",
       "    </tr>\n",
       "    <tr>\n",
       "      <th>17</th>\n",
       "      <td>18</td>\n",
       "      <td>babies</td>\n",
       "    </tr>\n",
       "    <tr>\n",
       "      <th>18</th>\n",
       "      <td>19</td>\n",
       "      <td>snacks</td>\n",
       "    </tr>\n",
       "    <tr>\n",
       "      <th>19</th>\n",
       "      <td>20</td>\n",
       "      <td>deli</td>\n",
       "    </tr>\n",
       "    <tr>\n",
       "      <th>20</th>\n",
       "      <td>21</td>\n",
       "      <td>missing</td>\n",
       "    </tr>\n",
       "  </tbody>\n",
       "</table>\n",
       "</div>"
      ],
      "text/plain": [
       "    Unnamed: 0       department\n",
       "0            1           frozen\n",
       "1            2            other\n",
       "2            3           bakery\n",
       "3            4          produce\n",
       "4            5          alcohol\n",
       "5            6    international\n",
       "6            7        beverages\n",
       "7            8             pets\n",
       "8            9  dry goods pasta\n",
       "9           10             bulk\n",
       "10          11    personal care\n",
       "11          12     meat seafood\n",
       "12          13           pantry\n",
       "13          14        breakfast\n",
       "14          15     canned goods\n",
       "15          16       dairy eggs\n",
       "16          17        household\n",
       "17          18           babies\n",
       "18          19           snacks\n",
       "19          20             deli\n",
       "20          21          missing"
      ]
     },
     "execution_count": 20,
     "metadata": {},
     "output_type": "execute_result"
    }
   ],
   "source": [
    "df_departments"
   ]
  },
  {
   "cell_type": "code",
   "execution_count": 21,
   "id": "7f307d9a",
   "metadata": {},
   "outputs": [],
   "source": [
    "df_departments.rename(columns = {'Unnamed: 0' : 'department_id'}, inplace = True)"
   ]
  },
  {
   "cell_type": "code",
   "execution_count": 22,
   "id": "8e97f0e8",
   "metadata": {},
   "outputs": [
    {
     "data": {
      "text/plain": [
       "Index(['department_id', 'department'], dtype='object')"
      ]
     },
     "execution_count": 22,
     "metadata": {},
     "output_type": "execute_result"
    }
   ],
   "source": [
    "df_departments.columns"
   ]
  },
  {
   "cell_type": "code",
   "execution_count": 23,
   "id": "2cbe362b",
   "metadata": {
    "collapsed": true
   },
   "outputs": [
    {
     "data": {
      "text/plain": [
       "department_id\n",
       "4     9079273\n",
       "16    5177182\n",
       "19    2766406\n",
       "7     2571901\n",
       "1     2121731\n",
       "13    1782705\n",
       "3     1120828\n",
       "15    1012074\n",
       "20    1003834\n",
       "9      822136\n",
       "17     699857\n",
       "12     674781\n",
       "14     670850\n",
       "11     424306\n",
       "18     410392\n",
       "6      255991\n",
       "5      144627\n",
       "8       93060\n",
       "21      64768\n",
       "2       34411\n",
       "10      33451\n",
       "Name: count, dtype: int64"
      ]
     },
     "execution_count": 23,
     "metadata": {},
     "output_type": "execute_result"
    }
   ],
   "source": [
    "op_active_customers['department_id'].value_counts(dropna=False)"
   ]
  },
  {
   "cell_type": "code",
   "execution_count": 24,
   "id": "35d8ebe4",
   "metadata": {},
   "outputs": [],
   "source": [
    "# Merge the actual name of each department into the main dataframe based on department_id\n",
    "op_active_customers = op_active_customers.merge(df_departments, on='department_id')"
   ]
  },
  {
   "cell_type": "code",
   "execution_count": 25,
   "id": "e1e1334d",
   "metadata": {
    "collapsed": true
   },
   "outputs": [
    {
     "data": {
      "text/html": [
       "<div>\n",
       "<style scoped>\n",
       "    .dataframe tbody tr th:only-of-type {\n",
       "        vertical-align: middle;\n",
       "    }\n",
       "\n",
       "    .dataframe tbody tr th {\n",
       "        vertical-align: top;\n",
       "    }\n",
       "\n",
       "    .dataframe thead th {\n",
       "        text-align: right;\n",
       "    }\n",
       "</style>\n",
       "<table border=\"1\" class=\"dataframe\">\n",
       "  <thead>\n",
       "    <tr style=\"text-align: right;\">\n",
       "      <th></th>\n",
       "      <th>order_id</th>\n",
       "      <th>user_id</th>\n",
       "      <th>eval_set</th>\n",
       "      <th>order_number</th>\n",
       "      <th>orders_day_of_week</th>\n",
       "      <th>order_hour_of_day</th>\n",
       "      <th>days_since_prior_order</th>\n",
       "      <th>product_id</th>\n",
       "      <th>add_to_cart_order</th>\n",
       "      <th>reordered</th>\n",
       "      <th>...</th>\n",
       "      <th>gender</th>\n",
       "      <th>state</th>\n",
       "      <th>age</th>\n",
       "      <th>n_dependents</th>\n",
       "      <th>fam_status</th>\n",
       "      <th>income</th>\n",
       "      <th>region</th>\n",
       "      <th>age_group</th>\n",
       "      <th>income_group</th>\n",
       "      <th>department</th>\n",
       "    </tr>\n",
       "  </thead>\n",
       "  <tbody>\n",
       "    <tr>\n",
       "      <th>0</th>\n",
       "      <td>2539329</td>\n",
       "      <td>1</td>\n",
       "      <td>prior</td>\n",
       "      <td>1</td>\n",
       "      <td>2</td>\n",
       "      <td>8</td>\n",
       "      <td>NaN</td>\n",
       "      <td>196</td>\n",
       "      <td>1</td>\n",
       "      <td>0</td>\n",
       "      <td>...</td>\n",
       "      <td>Female</td>\n",
       "      <td>Alabama</td>\n",
       "      <td>31</td>\n",
       "      <td>3</td>\n",
       "      <td>married</td>\n",
       "      <td>40423</td>\n",
       "      <td>South</td>\n",
       "      <td>18-33</td>\n",
       "      <td>Low</td>\n",
       "      <td>beverages</td>\n",
       "    </tr>\n",
       "    <tr>\n",
       "      <th>1</th>\n",
       "      <td>2398795</td>\n",
       "      <td>1</td>\n",
       "      <td>prior</td>\n",
       "      <td>2</td>\n",
       "      <td>3</td>\n",
       "      <td>7</td>\n",
       "      <td>15.0</td>\n",
       "      <td>196</td>\n",
       "      <td>1</td>\n",
       "      <td>1</td>\n",
       "      <td>...</td>\n",
       "      <td>Female</td>\n",
       "      <td>Alabama</td>\n",
       "      <td>31</td>\n",
       "      <td>3</td>\n",
       "      <td>married</td>\n",
       "      <td>40423</td>\n",
       "      <td>South</td>\n",
       "      <td>18-33</td>\n",
       "      <td>Low</td>\n",
       "      <td>beverages</td>\n",
       "    </tr>\n",
       "    <tr>\n",
       "      <th>2</th>\n",
       "      <td>473747</td>\n",
       "      <td>1</td>\n",
       "      <td>prior</td>\n",
       "      <td>3</td>\n",
       "      <td>3</td>\n",
       "      <td>12</td>\n",
       "      <td>21.0</td>\n",
       "      <td>196</td>\n",
       "      <td>1</td>\n",
       "      <td>1</td>\n",
       "      <td>...</td>\n",
       "      <td>Female</td>\n",
       "      <td>Alabama</td>\n",
       "      <td>31</td>\n",
       "      <td>3</td>\n",
       "      <td>married</td>\n",
       "      <td>40423</td>\n",
       "      <td>South</td>\n",
       "      <td>18-33</td>\n",
       "      <td>Low</td>\n",
       "      <td>beverages</td>\n",
       "    </tr>\n",
       "    <tr>\n",
       "      <th>3</th>\n",
       "      <td>2254736</td>\n",
       "      <td>1</td>\n",
       "      <td>prior</td>\n",
       "      <td>4</td>\n",
       "      <td>4</td>\n",
       "      <td>7</td>\n",
       "      <td>29.0</td>\n",
       "      <td>196</td>\n",
       "      <td>1</td>\n",
       "      <td>1</td>\n",
       "      <td>...</td>\n",
       "      <td>Female</td>\n",
       "      <td>Alabama</td>\n",
       "      <td>31</td>\n",
       "      <td>3</td>\n",
       "      <td>married</td>\n",
       "      <td>40423</td>\n",
       "      <td>South</td>\n",
       "      <td>18-33</td>\n",
       "      <td>Low</td>\n",
       "      <td>beverages</td>\n",
       "    </tr>\n",
       "    <tr>\n",
       "      <th>4</th>\n",
       "      <td>431534</td>\n",
       "      <td>1</td>\n",
       "      <td>prior</td>\n",
       "      <td>5</td>\n",
       "      <td>4</td>\n",
       "      <td>15</td>\n",
       "      <td>28.0</td>\n",
       "      <td>196</td>\n",
       "      <td>1</td>\n",
       "      <td>1</td>\n",
       "      <td>...</td>\n",
       "      <td>Female</td>\n",
       "      <td>Alabama</td>\n",
       "      <td>31</td>\n",
       "      <td>3</td>\n",
       "      <td>married</td>\n",
       "      <td>40423</td>\n",
       "      <td>South</td>\n",
       "      <td>18-33</td>\n",
       "      <td>Low</td>\n",
       "      <td>beverages</td>\n",
       "    </tr>\n",
       "  </tbody>\n",
       "</table>\n",
       "<p>5 rows × 34 columns</p>\n",
       "</div>"
      ],
      "text/plain": [
       "   order_id user_id eval_set  order_number  orders_day_of_week  \\\n",
       "0   2539329       1    prior             1                   2   \n",
       "1   2398795       1    prior             2                   3   \n",
       "2    473747       1    prior             3                   3   \n",
       "3   2254736       1    prior             4                   4   \n",
       "4    431534       1    prior             5                   4   \n",
       "\n",
       "   order_hour_of_day  days_since_prior_order  product_id  add_to_cart_order  \\\n",
       "0                  8                     NaN         196                  1   \n",
       "1                  7                    15.0         196                  1   \n",
       "2                 12                    21.0         196                  1   \n",
       "3                  7                    29.0         196                  1   \n",
       "4                 15                    28.0         196                  1   \n",
       "\n",
       "   reordered  ...  gender    state  age  n_dependents fam_status income  \\\n",
       "0          0  ...  Female  Alabama   31             3    married  40423   \n",
       "1          1  ...  Female  Alabama   31             3    married  40423   \n",
       "2          1  ...  Female  Alabama   31             3    married  40423   \n",
       "3          1  ...  Female  Alabama   31             3    married  40423   \n",
       "4          1  ...  Female  Alabama   31             3    married  40423   \n",
       "\n",
       "  region age_group  income_group department  \n",
       "0  South     18-33           Low  beverages  \n",
       "1  South     18-33           Low  beverages  \n",
       "2  South     18-33           Low  beverages  \n",
       "3  South     18-33           Low  beverages  \n",
       "4  South     18-33           Low  beverages  \n",
       "\n",
       "[5 rows x 34 columns]"
      ]
     },
     "execution_count": 25,
     "metadata": {},
     "output_type": "execute_result"
    }
   ],
   "source": [
    "op_active_customers.head()"
   ]
  },
  {
   "cell_type": "markdown",
   "id": "12ccf51b",
   "metadata": {},
   "source": [
    "##### Create groups based on the number of dependent"
   ]
  },
  {
   "cell_type": "code",
   "execution_count": 11,
   "id": "7ae16362",
   "metadata": {
    "collapsed": true
   },
   "outputs": [
    {
     "data": {
      "text/plain": [
       "n_dependents\n",
       "3    7772516\n",
       "0    7739681\n",
       "2    7733261\n",
       "1    7719106\n",
       "Name: count, dtype: int64"
      ]
     },
     "execution_count": 11,
     "metadata": {},
     "output_type": "execute_result"
    }
   ],
   "source": [
    "op_active_customers['n_dependents'].value_counts(dropna=False)"
   ]
  },
  {
   "cell_type": "code",
   "execution_count": 12,
   "id": "c3211772",
   "metadata": {},
   "outputs": [],
   "source": [
    "# Find and group customers as \"No dependents\"\n",
    "op_active_customers.loc[op_active_customers['n_dependents'] == 0, 'dependents_status'] = 'No Dependents' "
   ]
  },
  {
   "cell_type": "code",
   "execution_count": 13,
   "id": "2972f829",
   "metadata": {},
   "outputs": [],
   "source": [
    "# Find and group customers as \"1 or more dependents\"\n",
    "op_active_customers.loc[op_active_customers['n_dependents'] > 0, 'dependents_status'] = '1 or More Dependents' "
   ]
  },
  {
   "cell_type": "code",
   "execution_count": 14,
   "id": "bceaa322",
   "metadata": {
    "collapsed": true
   },
   "outputs": [
    {
     "data": {
      "text/plain": [
       "dependents_status\n",
       "1 or More Dependents    23224883\n",
       "No Dependents            7739681\n",
       "Name: count, dtype: int64"
      ]
     },
     "execution_count": 14,
     "metadata": {},
     "output_type": "execute_result"
    }
   ],
   "source": [
    "# Check the results of grouping\n",
    "op_active_customers['dependents_status'].value_counts(dropna=False)"
   ]
  },
  {
   "cell_type": "code",
   "execution_count": 15,
   "id": "1a2c4343",
   "metadata": {
    "collapsed": true
   },
   "outputs": [
    {
     "data": {
      "text/html": [
       "<div>\n",
       "<style scoped>\n",
       "    .dataframe tbody tr th:only-of-type {\n",
       "        vertical-align: middle;\n",
       "    }\n",
       "\n",
       "    .dataframe tbody tr th {\n",
       "        vertical-align: top;\n",
       "    }\n",
       "\n",
       "    .dataframe thead th {\n",
       "        text-align: right;\n",
       "    }\n",
       "</style>\n",
       "<table border=\"1\" class=\"dataframe\">\n",
       "  <thead>\n",
       "    <tr style=\"text-align: right;\">\n",
       "      <th></th>\n",
       "      <th>order_id</th>\n",
       "      <th>user_id</th>\n",
       "      <th>eval_set</th>\n",
       "      <th>order_number</th>\n",
       "      <th>orders_day_of_week</th>\n",
       "      <th>order_hour_of_day</th>\n",
       "      <th>days_since_prior_order</th>\n",
       "      <th>product_id</th>\n",
       "      <th>add_to_cart_order</th>\n",
       "      <th>reordered</th>\n",
       "      <th>...</th>\n",
       "      <th>state</th>\n",
       "      <th>age</th>\n",
       "      <th>n_dependents</th>\n",
       "      <th>fam_status</th>\n",
       "      <th>income</th>\n",
       "      <th>region</th>\n",
       "      <th>age_group</th>\n",
       "      <th>income_group</th>\n",
       "      <th>department</th>\n",
       "      <th>dependents_status</th>\n",
       "    </tr>\n",
       "  </thead>\n",
       "  <tbody>\n",
       "    <tr>\n",
       "      <th>0</th>\n",
       "      <td>2539329</td>\n",
       "      <td>1</td>\n",
       "      <td>prior</td>\n",
       "      <td>1</td>\n",
       "      <td>2</td>\n",
       "      <td>8</td>\n",
       "      <td>NaN</td>\n",
       "      <td>196</td>\n",
       "      <td>1</td>\n",
       "      <td>0</td>\n",
       "      <td>...</td>\n",
       "      <td>Alabama</td>\n",
       "      <td>31</td>\n",
       "      <td>3</td>\n",
       "      <td>married</td>\n",
       "      <td>40423</td>\n",
       "      <td>South</td>\n",
       "      <td>18-33</td>\n",
       "      <td>Low</td>\n",
       "      <td>beverages</td>\n",
       "      <td>1 or More Dependents</td>\n",
       "    </tr>\n",
       "    <tr>\n",
       "      <th>1</th>\n",
       "      <td>2398795</td>\n",
       "      <td>1</td>\n",
       "      <td>prior</td>\n",
       "      <td>2</td>\n",
       "      <td>3</td>\n",
       "      <td>7</td>\n",
       "      <td>15.0</td>\n",
       "      <td>196</td>\n",
       "      <td>1</td>\n",
       "      <td>1</td>\n",
       "      <td>...</td>\n",
       "      <td>Alabama</td>\n",
       "      <td>31</td>\n",
       "      <td>3</td>\n",
       "      <td>married</td>\n",
       "      <td>40423</td>\n",
       "      <td>South</td>\n",
       "      <td>18-33</td>\n",
       "      <td>Low</td>\n",
       "      <td>beverages</td>\n",
       "      <td>1 or More Dependents</td>\n",
       "    </tr>\n",
       "    <tr>\n",
       "      <th>2</th>\n",
       "      <td>473747</td>\n",
       "      <td>1</td>\n",
       "      <td>prior</td>\n",
       "      <td>3</td>\n",
       "      <td>3</td>\n",
       "      <td>12</td>\n",
       "      <td>21.0</td>\n",
       "      <td>196</td>\n",
       "      <td>1</td>\n",
       "      <td>1</td>\n",
       "      <td>...</td>\n",
       "      <td>Alabama</td>\n",
       "      <td>31</td>\n",
       "      <td>3</td>\n",
       "      <td>married</td>\n",
       "      <td>40423</td>\n",
       "      <td>South</td>\n",
       "      <td>18-33</td>\n",
       "      <td>Low</td>\n",
       "      <td>beverages</td>\n",
       "      <td>1 or More Dependents</td>\n",
       "    </tr>\n",
       "    <tr>\n",
       "      <th>3</th>\n",
       "      <td>2254736</td>\n",
       "      <td>1</td>\n",
       "      <td>prior</td>\n",
       "      <td>4</td>\n",
       "      <td>4</td>\n",
       "      <td>7</td>\n",
       "      <td>29.0</td>\n",
       "      <td>196</td>\n",
       "      <td>1</td>\n",
       "      <td>1</td>\n",
       "      <td>...</td>\n",
       "      <td>Alabama</td>\n",
       "      <td>31</td>\n",
       "      <td>3</td>\n",
       "      <td>married</td>\n",
       "      <td>40423</td>\n",
       "      <td>South</td>\n",
       "      <td>18-33</td>\n",
       "      <td>Low</td>\n",
       "      <td>beverages</td>\n",
       "      <td>1 or More Dependents</td>\n",
       "    </tr>\n",
       "    <tr>\n",
       "      <th>4</th>\n",
       "      <td>431534</td>\n",
       "      <td>1</td>\n",
       "      <td>prior</td>\n",
       "      <td>5</td>\n",
       "      <td>4</td>\n",
       "      <td>15</td>\n",
       "      <td>28.0</td>\n",
       "      <td>196</td>\n",
       "      <td>1</td>\n",
       "      <td>1</td>\n",
       "      <td>...</td>\n",
       "      <td>Alabama</td>\n",
       "      <td>31</td>\n",
       "      <td>3</td>\n",
       "      <td>married</td>\n",
       "      <td>40423</td>\n",
       "      <td>South</td>\n",
       "      <td>18-33</td>\n",
       "      <td>Low</td>\n",
       "      <td>beverages</td>\n",
       "      <td>1 or More Dependents</td>\n",
       "    </tr>\n",
       "  </tbody>\n",
       "</table>\n",
       "<p>5 rows × 35 columns</p>\n",
       "</div>"
      ],
      "text/plain": [
       "   order_id user_id eval_set  order_number  orders_day_of_week  \\\n",
       "0   2539329       1    prior             1                   2   \n",
       "1   2398795       1    prior             2                   3   \n",
       "2    473747       1    prior             3                   3   \n",
       "3   2254736       1    prior             4                   4   \n",
       "4    431534       1    prior             5                   4   \n",
       "\n",
       "   order_hour_of_day  days_since_prior_order  product_id  add_to_cart_order  \\\n",
       "0                  8                     NaN         196                  1   \n",
       "1                  7                    15.0         196                  1   \n",
       "2                 12                    21.0         196                  1   \n",
       "3                  7                    29.0         196                  1   \n",
       "4                 15                    28.0         196                  1   \n",
       "\n",
       "   reordered  ...    state  age  n_dependents  fam_status income region  \\\n",
       "0          0  ...  Alabama   31             3     married  40423  South   \n",
       "1          1  ...  Alabama   31             3     married  40423  South   \n",
       "2          1  ...  Alabama   31             3     married  40423  South   \n",
       "3          1  ...  Alabama   31             3     married  40423  South   \n",
       "4          1  ...  Alabama   31             3     married  40423  South   \n",
       "\n",
       "  age_group income_group  department     dependents_status  \n",
       "0     18-33          Low   beverages  1 or More Dependents  \n",
       "1     18-33          Low   beverages  1 or More Dependents  \n",
       "2     18-33          Low   beverages  1 or More Dependents  \n",
       "3     18-33          Low   beverages  1 or More Dependents  \n",
       "4     18-33          Low   beverages  1 or More Dependents  \n",
       "\n",
       "[5 rows x 35 columns]"
      ]
     },
     "execution_count": 15,
     "metadata": {},
     "output_type": "execute_result"
    }
   ],
   "source": [
    "op_active_customers.head()"
   ]
  },
  {
   "cell_type": "markdown",
   "id": "0aa3d69d",
   "metadata": {},
   "source": [
    "##### Create the customer's profile based on household status"
   ]
  },
  {
   "cell_type": "markdown",
   "id": "f5237f7e",
   "metadata": {},
   "source": [
    "Based on whether a customer purchases baby products and the family status of said customer, I group the customer into one of the six categories: </br>\n",
    "1. Married household without baby(ies)\n",
    "2. Single household without baby(ies)\n",
    "3. Two-or-more person household without baby(ies)\n",
    "4. Married household with baby(ies)\n",
    "5. Single household with baby(ies)\n",
    "6. Two-or-more person household with baby(ies)  "
   ]
  },
  {
   "cell_type": "code",
   "execution_count": 16,
   "id": "90199d5f",
   "metadata": {
    "collapsed": true
   },
   "outputs": [
    {
     "data": {
      "text/plain": [
       "fam_status\n",
       "married                             21743711\n",
       "single                               5094410\n",
       "divorced/widowed                     2645271\n",
       "living with parents and siblings     1481172\n",
       "Name: count, dtype: int64"
      ]
     },
     "execution_count": 16,
     "metadata": {},
     "output_type": "execute_result"
    }
   ],
   "source": [
    "op_active_customers['fam_status'].value_counts(dropna=False)"
   ]
  },
  {
   "cell_type": "markdown",
   "id": "4f354ceb",
   "metadata": {},
   "source": [
    "If a customer has bought baby products, then we assume the customer's household has one or more babies. The following steps create a list of unique user_id that contains all customers with baby(ies)."
   ]
  },
  {
   "cell_type": "code",
   "execution_count": 37,
   "id": "0b240d2e",
   "metadata": {},
   "outputs": [],
   "source": [
    "# Create a subset containing only relevant columns\n",
    "df_babies = op_active_customers[['user_id', 'department']]"
   ]
  },
  {
   "cell_type": "code",
   "execution_count": 38,
   "id": "d5038790",
   "metadata": {},
   "outputs": [
    {
     "data": {
      "text/plain": [
       "(30964564, 2)"
      ]
     },
     "execution_count": 38,
     "metadata": {},
     "output_type": "execute_result"
    }
   ],
   "source": [
    "df_babies.shape"
   ]
  },
  {
   "cell_type": "code",
   "execution_count": 39,
   "id": "2e5dac48",
   "metadata": {},
   "outputs": [],
   "source": [
    "# Filter the subset by the babies department\n",
    "df_babies = df_babies.loc[df_babies['department'] == 'babies']"
   ]
  },
  {
   "cell_type": "code",
   "execution_count": 41,
   "id": "295ce4bc",
   "metadata": {
    "collapsed": true
   },
   "outputs": [
    {
     "data": {
      "text/html": [
       "<div>\n",
       "<style scoped>\n",
       "    .dataframe tbody tr th:only-of-type {\n",
       "        vertical-align: middle;\n",
       "    }\n",
       "\n",
       "    .dataframe tbody tr th {\n",
       "        vertical-align: top;\n",
       "    }\n",
       "\n",
       "    .dataframe thead th {\n",
       "        text-align: right;\n",
       "    }\n",
       "</style>\n",
       "<table border=\"1\" class=\"dataframe\">\n",
       "  <thead>\n",
       "    <tr style=\"text-align: right;\">\n",
       "      <th></th>\n",
       "      <th>user_id</th>\n",
       "      <th>department</th>\n",
       "      <th>baby_flag</th>\n",
       "    </tr>\n",
       "  </thead>\n",
       "  <tbody>\n",
       "    <tr>\n",
       "      <th>30486310</th>\n",
       "      <td>109</td>\n",
       "      <td>babies</td>\n",
       "      <td>with baby(ies)</td>\n",
       "    </tr>\n",
       "    <tr>\n",
       "      <th>30486311</th>\n",
       "      <td>290</td>\n",
       "      <td>babies</td>\n",
       "      <td>with baby(ies)</td>\n",
       "    </tr>\n",
       "    <tr>\n",
       "      <th>30486312</th>\n",
       "      <td>290</td>\n",
       "      <td>babies</td>\n",
       "      <td>with baby(ies)</td>\n",
       "    </tr>\n",
       "    <tr>\n",
       "      <th>30486313</th>\n",
       "      <td>420</td>\n",
       "      <td>babies</td>\n",
       "      <td>with baby(ies)</td>\n",
       "    </tr>\n",
       "    <tr>\n",
       "      <th>30486314</th>\n",
       "      <td>420</td>\n",
       "      <td>babies</td>\n",
       "      <td>with baby(ies)</td>\n",
       "    </tr>\n",
       "    <tr>\n",
       "      <th>...</th>\n",
       "      <td>...</td>\n",
       "      <td>...</td>\n",
       "      <td>...</td>\n",
       "    </tr>\n",
       "    <tr>\n",
       "      <th>30896697</th>\n",
       "      <td>194803</td>\n",
       "      <td>babies</td>\n",
       "      <td>with baby(ies)</td>\n",
       "    </tr>\n",
       "    <tr>\n",
       "      <th>30896698</th>\n",
       "      <td>194803</td>\n",
       "      <td>babies</td>\n",
       "      <td>with baby(ies)</td>\n",
       "    </tr>\n",
       "    <tr>\n",
       "      <th>30896699</th>\n",
       "      <td>21688</td>\n",
       "      <td>babies</td>\n",
       "      <td>with baby(ies)</td>\n",
       "    </tr>\n",
       "    <tr>\n",
       "      <th>30896700</th>\n",
       "      <td>21688</td>\n",
       "      <td>babies</td>\n",
       "      <td>with baby(ies)</td>\n",
       "    </tr>\n",
       "    <tr>\n",
       "      <th>30896701</th>\n",
       "      <td>21688</td>\n",
       "      <td>babies</td>\n",
       "      <td>with baby(ies)</td>\n",
       "    </tr>\n",
       "  </tbody>\n",
       "</table>\n",
       "<p>410392 rows × 3 columns</p>\n",
       "</div>"
      ],
      "text/plain": [
       "         user_id department       baby_flag\n",
       "30486310     109     babies  with baby(ies)\n",
       "30486311     290     babies  with baby(ies)\n",
       "30486312     290     babies  with baby(ies)\n",
       "30486313     420     babies  with baby(ies)\n",
       "30486314     420     babies  with baby(ies)\n",
       "...          ...        ...             ...\n",
       "30896697  194803     babies  with baby(ies)\n",
       "30896698  194803     babies  with baby(ies)\n",
       "30896699   21688     babies  with baby(ies)\n",
       "30896700   21688     babies  with baby(ies)\n",
       "30896701   21688     babies  with baby(ies)\n",
       "\n",
       "[410392 rows x 3 columns]"
      ]
     },
     "execution_count": 41,
     "metadata": {},
     "output_type": "execute_result"
    }
   ],
   "source": [
    "# Create a new column to flag with/without baby(ies)\n",
    "df_babies['baby_flag'] = 'with baby(ies)'\n",
    "df_babies"
   ]
  },
  {
   "cell_type": "code",
   "execution_count": 42,
   "id": "803fa1f3",
   "metadata": {},
   "outputs": [],
   "source": [
    "# Delete the department column as it is not needed\n",
    "df_babies = df_babies.drop(['department'], axis = 1)"
   ]
  },
  {
   "cell_type": "code",
   "execution_count": 43,
   "id": "a0abf014",
   "metadata": {},
   "outputs": [],
   "source": [
    "# Delete all duplicate columns so that the subset only has unique rows\n",
    "df_babies = df_babies.drop_duplicates()"
   ]
  },
  {
   "cell_type": "code",
   "execution_count": 44,
   "id": "a70bd498",
   "metadata": {
    "collapsed": true
   },
   "outputs": [
    {
     "data": {
      "text/html": [
       "<div>\n",
       "<style scoped>\n",
       "    .dataframe tbody tr th:only-of-type {\n",
       "        vertical-align: middle;\n",
       "    }\n",
       "\n",
       "    .dataframe tbody tr th {\n",
       "        vertical-align: top;\n",
       "    }\n",
       "\n",
       "    .dataframe thead th {\n",
       "        text-align: right;\n",
       "    }\n",
       "</style>\n",
       "<table border=\"1\" class=\"dataframe\">\n",
       "  <thead>\n",
       "    <tr style=\"text-align: right;\">\n",
       "      <th></th>\n",
       "      <th>user_id</th>\n",
       "      <th>baby_flag</th>\n",
       "    </tr>\n",
       "  </thead>\n",
       "  <tbody>\n",
       "    <tr>\n",
       "      <th>30486310</th>\n",
       "      <td>109</td>\n",
       "      <td>with baby(ies)</td>\n",
       "    </tr>\n",
       "    <tr>\n",
       "      <th>30486311</th>\n",
       "      <td>290</td>\n",
       "      <td>with baby(ies)</td>\n",
       "    </tr>\n",
       "    <tr>\n",
       "      <th>30486313</th>\n",
       "      <td>420</td>\n",
       "      <td>with baby(ies)</td>\n",
       "    </tr>\n",
       "    <tr>\n",
       "      <th>30486319</th>\n",
       "      <td>778</td>\n",
       "      <td>with baby(ies)</td>\n",
       "    </tr>\n",
       "    <tr>\n",
       "      <th>30486323</th>\n",
       "      <td>1613</td>\n",
       "      <td>with baby(ies)</td>\n",
       "    </tr>\n",
       "    <tr>\n",
       "      <th>...</th>\n",
       "      <td>...</td>\n",
       "      <td>...</td>\n",
       "    </tr>\n",
       "    <tr>\n",
       "      <th>30896678</th>\n",
       "      <td>66087</td>\n",
       "      <td>with baby(ies)</td>\n",
       "    </tr>\n",
       "    <tr>\n",
       "      <th>30896679</th>\n",
       "      <td>11731</td>\n",
       "      <td>with baby(ies)</td>\n",
       "    </tr>\n",
       "    <tr>\n",
       "      <th>30896682</th>\n",
       "      <td>149691</td>\n",
       "      <td>with baby(ies)</td>\n",
       "    </tr>\n",
       "    <tr>\n",
       "      <th>30896690</th>\n",
       "      <td>194803</td>\n",
       "      <td>with baby(ies)</td>\n",
       "    </tr>\n",
       "    <tr>\n",
       "      <th>30896699</th>\n",
       "      <td>21688</td>\n",
       "      <td>with baby(ies)</td>\n",
       "    </tr>\n",
       "  </tbody>\n",
       "</table>\n",
       "<p>30230 rows × 2 columns</p>\n",
       "</div>"
      ],
      "text/plain": [
       "         user_id       baby_flag\n",
       "30486310     109  with baby(ies)\n",
       "30486311     290  with baby(ies)\n",
       "30486313     420  with baby(ies)\n",
       "30486319     778  with baby(ies)\n",
       "30486323    1613  with baby(ies)\n",
       "...          ...             ...\n",
       "30896678   66087  with baby(ies)\n",
       "30896679   11731  with baby(ies)\n",
       "30896682  149691  with baby(ies)\n",
       "30896690  194803  with baby(ies)\n",
       "30896699   21688  with baby(ies)\n",
       "\n",
       "[30230 rows x 2 columns]"
      ]
     },
     "execution_count": 44,
     "metadata": {},
     "output_type": "execute_result"
    }
   ],
   "source": [
    "df_babies"
   ]
  },
  {
   "cell_type": "code",
   "execution_count": 8,
   "id": "9fe3ace8",
   "metadata": {},
   "outputs": [],
   "source": [
    "# Left join the main dataframe op_active_customers with the subset\n",
    "op_active_customers = op_active_customers.join(df_babies.set_index('user_id'), on='user_id')"
   ]
  },
  {
   "cell_type": "code",
   "execution_count": 9,
   "id": "125fc311",
   "metadata": {
    "collapsed": true
   },
   "outputs": [
    {
     "data": {
      "text/plain": [
       "baby_flag\n",
       "NaN               21154311\n",
       "with baby(ies)     9810253\n",
       "Name: count, dtype: int64"
      ]
     },
     "execution_count": 9,
     "metadata": {},
     "output_type": "execute_result"
    }
   ],
   "source": [
    "# Check whether the join was successful. The NaN values are customers who don't have baby(ies).\n",
    "op_active_customers['baby_flag'].value_counts(dropna=False)"
   ]
  },
  {
   "cell_type": "code",
   "execution_count": 12,
   "id": "a5510851",
   "metadata": {},
   "outputs": [],
   "source": [
    "# Fill the baby_flag value for all customers who don't have baby(ies)\n",
    "op_active_customers['baby_flag'].fillna('without baby(ies)', inplace=True)"
   ]
  },
  {
   "cell_type": "code",
   "execution_count": 13,
   "id": "f5eb4e4a",
   "metadata": {
    "collapsed": true
   },
   "outputs": [
    {
     "data": {
      "text/plain": [
       "baby_flag\n",
       "without baby(ies)    21154311\n",
       "with baby(ies)        9810253\n",
       "Name: count, dtype: int64"
      ]
     },
     "execution_count": 13,
     "metadata": {},
     "output_type": "execute_result"
    }
   ],
   "source": [
    "# Check the flagging results\n",
    "op_active_customers['baby_flag'].value_counts(dropna=False)"
   ]
  },
  {
   "cell_type": "code",
   "execution_count": 14,
   "id": "f7d6b602",
   "metadata": {
    "collapsed": true
   },
   "outputs": [
    {
     "data": {
      "text/html": [
       "<div>\n",
       "<style scoped>\n",
       "    .dataframe tbody tr th:only-of-type {\n",
       "        vertical-align: middle;\n",
       "    }\n",
       "\n",
       "    .dataframe tbody tr th {\n",
       "        vertical-align: top;\n",
       "    }\n",
       "\n",
       "    .dataframe thead th {\n",
       "        text-align: right;\n",
       "    }\n",
       "</style>\n",
       "<table border=\"1\" class=\"dataframe\">\n",
       "  <thead>\n",
       "    <tr style=\"text-align: right;\">\n",
       "      <th></th>\n",
       "      <th>order_id</th>\n",
       "      <th>user_id</th>\n",
       "      <th>eval_set</th>\n",
       "      <th>order_number</th>\n",
       "      <th>orders_day_of_week</th>\n",
       "      <th>order_hour_of_day</th>\n",
       "      <th>days_since_prior_order</th>\n",
       "      <th>product_id</th>\n",
       "      <th>add_to_cart_order</th>\n",
       "      <th>reordered</th>\n",
       "      <th>...</th>\n",
       "      <th>n_dependents</th>\n",
       "      <th>fam_status</th>\n",
       "      <th>income</th>\n",
       "      <th>region</th>\n",
       "      <th>age_group</th>\n",
       "      <th>income_group</th>\n",
       "      <th>department</th>\n",
       "      <th>dependents_status</th>\n",
       "      <th>customer_profile</th>\n",
       "      <th>baby_flag</th>\n",
       "    </tr>\n",
       "  </thead>\n",
       "  <tbody>\n",
       "    <tr>\n",
       "      <th>0</th>\n",
       "      <td>2539329</td>\n",
       "      <td>1</td>\n",
       "      <td>prior</td>\n",
       "      <td>1</td>\n",
       "      <td>2</td>\n",
       "      <td>8</td>\n",
       "      <td>NaN</td>\n",
       "      <td>196</td>\n",
       "      <td>1</td>\n",
       "      <td>0</td>\n",
       "      <td>...</td>\n",
       "      <td>3</td>\n",
       "      <td>married</td>\n",
       "      <td>40423</td>\n",
       "      <td>South</td>\n",
       "      <td>30-39</td>\n",
       "      <td>Low</td>\n",
       "      <td>beverages</td>\n",
       "      <td>1 or More Dependents</td>\n",
       "      <td>Married household without baby(ies)</td>\n",
       "      <td>without baby(ies)</td>\n",
       "    </tr>\n",
       "    <tr>\n",
       "      <th>1</th>\n",
       "      <td>2398795</td>\n",
       "      <td>1</td>\n",
       "      <td>prior</td>\n",
       "      <td>2</td>\n",
       "      <td>3</td>\n",
       "      <td>7</td>\n",
       "      <td>15.0</td>\n",
       "      <td>196</td>\n",
       "      <td>1</td>\n",
       "      <td>1</td>\n",
       "      <td>...</td>\n",
       "      <td>3</td>\n",
       "      <td>married</td>\n",
       "      <td>40423</td>\n",
       "      <td>South</td>\n",
       "      <td>30-39</td>\n",
       "      <td>Low</td>\n",
       "      <td>beverages</td>\n",
       "      <td>1 or More Dependents</td>\n",
       "      <td>Married household without baby(ies)</td>\n",
       "      <td>without baby(ies)</td>\n",
       "    </tr>\n",
       "    <tr>\n",
       "      <th>2</th>\n",
       "      <td>473747</td>\n",
       "      <td>1</td>\n",
       "      <td>prior</td>\n",
       "      <td>3</td>\n",
       "      <td>3</td>\n",
       "      <td>12</td>\n",
       "      <td>21.0</td>\n",
       "      <td>196</td>\n",
       "      <td>1</td>\n",
       "      <td>1</td>\n",
       "      <td>...</td>\n",
       "      <td>3</td>\n",
       "      <td>married</td>\n",
       "      <td>40423</td>\n",
       "      <td>South</td>\n",
       "      <td>30-39</td>\n",
       "      <td>Low</td>\n",
       "      <td>beverages</td>\n",
       "      <td>1 or More Dependents</td>\n",
       "      <td>Married household without baby(ies)</td>\n",
       "      <td>without baby(ies)</td>\n",
       "    </tr>\n",
       "    <tr>\n",
       "      <th>3</th>\n",
       "      <td>2254736</td>\n",
       "      <td>1</td>\n",
       "      <td>prior</td>\n",
       "      <td>4</td>\n",
       "      <td>4</td>\n",
       "      <td>7</td>\n",
       "      <td>29.0</td>\n",
       "      <td>196</td>\n",
       "      <td>1</td>\n",
       "      <td>1</td>\n",
       "      <td>...</td>\n",
       "      <td>3</td>\n",
       "      <td>married</td>\n",
       "      <td>40423</td>\n",
       "      <td>South</td>\n",
       "      <td>30-39</td>\n",
       "      <td>Low</td>\n",
       "      <td>beverages</td>\n",
       "      <td>1 or More Dependents</td>\n",
       "      <td>Married household without baby(ies)</td>\n",
       "      <td>without baby(ies)</td>\n",
       "    </tr>\n",
       "    <tr>\n",
       "      <th>4</th>\n",
       "      <td>431534</td>\n",
       "      <td>1</td>\n",
       "      <td>prior</td>\n",
       "      <td>5</td>\n",
       "      <td>4</td>\n",
       "      <td>15</td>\n",
       "      <td>28.0</td>\n",
       "      <td>196</td>\n",
       "      <td>1</td>\n",
       "      <td>1</td>\n",
       "      <td>...</td>\n",
       "      <td>3</td>\n",
       "      <td>married</td>\n",
       "      <td>40423</td>\n",
       "      <td>South</td>\n",
       "      <td>30-39</td>\n",
       "      <td>Low</td>\n",
       "      <td>beverages</td>\n",
       "      <td>1 or More Dependents</td>\n",
       "      <td>Married household without baby(ies)</td>\n",
       "      <td>without baby(ies)</td>\n",
       "    </tr>\n",
       "  </tbody>\n",
       "</table>\n",
       "<p>5 rows × 37 columns</p>\n",
       "</div>"
      ],
      "text/plain": [
       "   order_id user_id eval_set  order_number  orders_day_of_week  \\\n",
       "0   2539329       1    prior             1                   2   \n",
       "1   2398795       1    prior             2                   3   \n",
       "2    473747       1    prior             3                   3   \n",
       "3   2254736       1    prior             4                   4   \n",
       "4    431534       1    prior             5                   4   \n",
       "\n",
       "   order_hour_of_day  days_since_prior_order  product_id  add_to_cart_order  \\\n",
       "0                  8                     NaN         196                  1   \n",
       "1                  7                    15.0         196                  1   \n",
       "2                 12                    21.0         196                  1   \n",
       "3                  7                    29.0         196                  1   \n",
       "4                 15                    28.0         196                  1   \n",
       "\n",
       "   reordered  ... n_dependents  fam_status  income  region age_group  \\\n",
       "0          0  ...            3     married   40423   South     30-39   \n",
       "1          1  ...            3     married   40423   South     30-39   \n",
       "2          1  ...            3     married   40423   South     30-39   \n",
       "3          1  ...            3     married   40423   South     30-39   \n",
       "4          1  ...            3     married   40423   South     30-39   \n",
       "\n",
       "  income_group department     dependents_status  \\\n",
       "0          Low  beverages  1 or More Dependents   \n",
       "1          Low  beverages  1 or More Dependents   \n",
       "2          Low  beverages  1 or More Dependents   \n",
       "3          Low  beverages  1 or More Dependents   \n",
       "4          Low  beverages  1 or More Dependents   \n",
       "\n",
       "                      customer_profile          baby_flag  \n",
       "0  Married household without baby(ies)  without baby(ies)  \n",
       "1  Married household without baby(ies)  without baby(ies)  \n",
       "2  Married household without baby(ies)  without baby(ies)  \n",
       "3  Married household without baby(ies)  without baby(ies)  \n",
       "4  Married household without baby(ies)  without baby(ies)  \n",
       "\n",
       "[5 rows x 37 columns]"
      ]
     },
     "execution_count": 14,
     "metadata": {},
     "output_type": "execute_result"
    }
   ],
   "source": [
    "op_active_customers.head()"
   ]
  },
  {
   "cell_type": "code",
   "execution_count": 15,
   "id": "ccf369aa",
   "metadata": {},
   "outputs": [],
   "source": [
    "# Find and group customers as \"Married household with baby(ies)\"\n",
    "op_active_customers.loc[(op_active_customers['baby_flag'] == 'with baby(ies)') & (op_active_customers['fam_status'] == 'married'), 'customer_profile'] = 'Married household with baby(ies)' "
   ]
  },
  {
   "cell_type": "code",
   "execution_count": 16,
   "id": "e964bb44",
   "metadata": {},
   "outputs": [],
   "source": [
    "# Find and group customers as \"Single household with baby(ies)\"\n",
    "op_active_customers.loc[(op_active_customers['baby_flag'] == 'with baby(ies)') & ((op_active_customers['fam_status'] == 'single') | (op_active_customers['fam_status'] == 'divorced/widowed')) , 'customer_profile'] = 'Single household with baby(ies)' "
   ]
  },
  {
   "cell_type": "code",
   "execution_count": 17,
   "id": "ed61aa6b",
   "metadata": {},
   "outputs": [],
   "source": [
    "# Find and group customers as \"Two-or-more person household with baby(ies)\"\n",
    "op_active_customers.loc[(op_active_customers['baby_flag'] == 'with baby(ies)') & (op_active_customers['fam_status'] == 'living with parents and siblings'), 'customer_profile'] = 'Two-or-more person household with baby(ies)' "
   ]
  },
  {
   "cell_type": "code",
   "execution_count": 18,
   "id": "37106214",
   "metadata": {},
   "outputs": [],
   "source": [
    "# Find and group customers as \"Married household without baby(ies)\"\n",
    "op_active_customers.loc[(op_active_customers['baby_flag'] == 'without baby(ies)') & (op_active_customers['fam_status'] == 'married'), 'customer_profile'] = 'Married household without baby(ies)' "
   ]
  },
  {
   "cell_type": "code",
   "execution_count": 19,
   "id": "3b69e662",
   "metadata": {},
   "outputs": [],
   "source": [
    "# Find and group customers as \"Single household without baby(ies)\"\n",
    "op_active_customers.loc[(op_active_customers['baby_flag'] == 'without baby(ies)') & ((op_active_customers['fam_status'] == 'single') | (op_active_customers['fam_status'] == 'divorced/widowed')) , 'customer_profile'] = 'Single household without baby(ies)' "
   ]
  },
  {
   "cell_type": "code",
   "execution_count": 20,
   "id": "e1e7e14d",
   "metadata": {},
   "outputs": [],
   "source": [
    "# Find and group customers as \"Two-or-more person household without baby(ies)\"\n",
    "op_active_customers.loc[(op_active_customers['baby_flag'] == 'without baby(ies)') & (op_active_customers['fam_status'] == 'living with parents and siblings'), 'customer_profile'] = 'Two-or-more person household without baby(ies)' "
   ]
  },
  {
   "cell_type": "code",
   "execution_count": 21,
   "id": "c1a3bad7",
   "metadata": {
    "collapsed": true
   },
   "outputs": [
    {
     "data": {
      "text/plain": [
       "customer_profile\n",
       "Married household without baby(ies)               14854327\n",
       "Married household with baby(ies)                   6889384\n",
       "Single household without baby(ies)                 5283590\n",
       "Single household with baby(ies)                    2456091\n",
       "Two-or-more person household without baby(ies)     1016394\n",
       "Two-or-more person household with baby(ies)         464778\n",
       "Name: count, dtype: int64"
      ]
     },
     "execution_count": 21,
     "metadata": {},
     "output_type": "execute_result"
    }
   ],
   "source": [
    "# Check the grouping results\n",
    "op_active_customers['customer_profile'].value_counts(dropna=False)"
   ]
  },
  {
   "cell_type": "code",
   "execution_count": 22,
   "id": "ae4ade88",
   "metadata": {
    "collapsed": true
   },
   "outputs": [
    {
     "data": {
      "text/html": [
       "<div>\n",
       "<style scoped>\n",
       "    .dataframe tbody tr th:only-of-type {\n",
       "        vertical-align: middle;\n",
       "    }\n",
       "\n",
       "    .dataframe tbody tr th {\n",
       "        vertical-align: top;\n",
       "    }\n",
       "\n",
       "    .dataframe thead th {\n",
       "        text-align: right;\n",
       "    }\n",
       "</style>\n",
       "<table border=\"1\" class=\"dataframe\">\n",
       "  <thead>\n",
       "    <tr style=\"text-align: right;\">\n",
       "      <th></th>\n",
       "      <th>order_id</th>\n",
       "      <th>user_id</th>\n",
       "      <th>eval_set</th>\n",
       "      <th>order_number</th>\n",
       "      <th>orders_day_of_week</th>\n",
       "      <th>order_hour_of_day</th>\n",
       "      <th>days_since_prior_order</th>\n",
       "      <th>product_id</th>\n",
       "      <th>add_to_cart_order</th>\n",
       "      <th>reordered</th>\n",
       "      <th>...</th>\n",
       "      <th>n_dependents</th>\n",
       "      <th>fam_status</th>\n",
       "      <th>income</th>\n",
       "      <th>region</th>\n",
       "      <th>age_group</th>\n",
       "      <th>income_group</th>\n",
       "      <th>department</th>\n",
       "      <th>dependents_status</th>\n",
       "      <th>customer_profile</th>\n",
       "      <th>baby_flag</th>\n",
       "    </tr>\n",
       "  </thead>\n",
       "  <tbody>\n",
       "    <tr>\n",
       "      <th>0</th>\n",
       "      <td>2539329</td>\n",
       "      <td>1</td>\n",
       "      <td>prior</td>\n",
       "      <td>1</td>\n",
       "      <td>2</td>\n",
       "      <td>8</td>\n",
       "      <td>NaN</td>\n",
       "      <td>196</td>\n",
       "      <td>1</td>\n",
       "      <td>0</td>\n",
       "      <td>...</td>\n",
       "      <td>3</td>\n",
       "      <td>married</td>\n",
       "      <td>40423</td>\n",
       "      <td>South</td>\n",
       "      <td>30-39</td>\n",
       "      <td>Low</td>\n",
       "      <td>beverages</td>\n",
       "      <td>1 or More Dependents</td>\n",
       "      <td>Married household without baby(ies)</td>\n",
       "      <td>without baby(ies)</td>\n",
       "    </tr>\n",
       "    <tr>\n",
       "      <th>1</th>\n",
       "      <td>2398795</td>\n",
       "      <td>1</td>\n",
       "      <td>prior</td>\n",
       "      <td>2</td>\n",
       "      <td>3</td>\n",
       "      <td>7</td>\n",
       "      <td>15.0</td>\n",
       "      <td>196</td>\n",
       "      <td>1</td>\n",
       "      <td>1</td>\n",
       "      <td>...</td>\n",
       "      <td>3</td>\n",
       "      <td>married</td>\n",
       "      <td>40423</td>\n",
       "      <td>South</td>\n",
       "      <td>30-39</td>\n",
       "      <td>Low</td>\n",
       "      <td>beverages</td>\n",
       "      <td>1 or More Dependents</td>\n",
       "      <td>Married household without baby(ies)</td>\n",
       "      <td>without baby(ies)</td>\n",
       "    </tr>\n",
       "    <tr>\n",
       "      <th>2</th>\n",
       "      <td>473747</td>\n",
       "      <td>1</td>\n",
       "      <td>prior</td>\n",
       "      <td>3</td>\n",
       "      <td>3</td>\n",
       "      <td>12</td>\n",
       "      <td>21.0</td>\n",
       "      <td>196</td>\n",
       "      <td>1</td>\n",
       "      <td>1</td>\n",
       "      <td>...</td>\n",
       "      <td>3</td>\n",
       "      <td>married</td>\n",
       "      <td>40423</td>\n",
       "      <td>South</td>\n",
       "      <td>30-39</td>\n",
       "      <td>Low</td>\n",
       "      <td>beverages</td>\n",
       "      <td>1 or More Dependents</td>\n",
       "      <td>Married household without baby(ies)</td>\n",
       "      <td>without baby(ies)</td>\n",
       "    </tr>\n",
       "    <tr>\n",
       "      <th>3</th>\n",
       "      <td>2254736</td>\n",
       "      <td>1</td>\n",
       "      <td>prior</td>\n",
       "      <td>4</td>\n",
       "      <td>4</td>\n",
       "      <td>7</td>\n",
       "      <td>29.0</td>\n",
       "      <td>196</td>\n",
       "      <td>1</td>\n",
       "      <td>1</td>\n",
       "      <td>...</td>\n",
       "      <td>3</td>\n",
       "      <td>married</td>\n",
       "      <td>40423</td>\n",
       "      <td>South</td>\n",
       "      <td>30-39</td>\n",
       "      <td>Low</td>\n",
       "      <td>beverages</td>\n",
       "      <td>1 or More Dependents</td>\n",
       "      <td>Married household without baby(ies)</td>\n",
       "      <td>without baby(ies)</td>\n",
       "    </tr>\n",
       "    <tr>\n",
       "      <th>4</th>\n",
       "      <td>431534</td>\n",
       "      <td>1</td>\n",
       "      <td>prior</td>\n",
       "      <td>5</td>\n",
       "      <td>4</td>\n",
       "      <td>15</td>\n",
       "      <td>28.0</td>\n",
       "      <td>196</td>\n",
       "      <td>1</td>\n",
       "      <td>1</td>\n",
       "      <td>...</td>\n",
       "      <td>3</td>\n",
       "      <td>married</td>\n",
       "      <td>40423</td>\n",
       "      <td>South</td>\n",
       "      <td>30-39</td>\n",
       "      <td>Low</td>\n",
       "      <td>beverages</td>\n",
       "      <td>1 or More Dependents</td>\n",
       "      <td>Married household without baby(ies)</td>\n",
       "      <td>without baby(ies)</td>\n",
       "    </tr>\n",
       "  </tbody>\n",
       "</table>\n",
       "<p>5 rows × 37 columns</p>\n",
       "</div>"
      ],
      "text/plain": [
       "   order_id user_id eval_set  order_number  orders_day_of_week  \\\n",
       "0   2539329       1    prior             1                   2   \n",
       "1   2398795       1    prior             2                   3   \n",
       "2    473747       1    prior             3                   3   \n",
       "3   2254736       1    prior             4                   4   \n",
       "4    431534       1    prior             5                   4   \n",
       "\n",
       "   order_hour_of_day  days_since_prior_order  product_id  add_to_cart_order  \\\n",
       "0                  8                     NaN         196                  1   \n",
       "1                  7                    15.0         196                  1   \n",
       "2                 12                    21.0         196                  1   \n",
       "3                  7                    29.0         196                  1   \n",
       "4                 15                    28.0         196                  1   \n",
       "\n",
       "   reordered  ... n_dependents  fam_status  income  region age_group  \\\n",
       "0          0  ...            3     married   40423   South     30-39   \n",
       "1          1  ...            3     married   40423   South     30-39   \n",
       "2          1  ...            3     married   40423   South     30-39   \n",
       "3          1  ...            3     married   40423   South     30-39   \n",
       "4          1  ...            3     married   40423   South     30-39   \n",
       "\n",
       "  income_group department     dependents_status  \\\n",
       "0          Low  beverages  1 or More Dependents   \n",
       "1          Low  beverages  1 or More Dependents   \n",
       "2          Low  beverages  1 or More Dependents   \n",
       "3          Low  beverages  1 or More Dependents   \n",
       "4          Low  beverages  1 or More Dependents   \n",
       "\n",
       "                      customer_profile          baby_flag  \n",
       "0  Married household without baby(ies)  without baby(ies)  \n",
       "1  Married household without baby(ies)  without baby(ies)  \n",
       "2  Married household without baby(ies)  without baby(ies)  \n",
       "3  Married household without baby(ies)  without baby(ies)  \n",
       "4  Married household without baby(ies)  without baby(ies)  \n",
       "\n",
       "[5 rows x 37 columns]"
      ]
     },
     "execution_count": 22,
     "metadata": {},
     "output_type": "execute_result"
    }
   ],
   "source": [
    "# Check the new column \"customer_profile\"\n",
    "op_active_customers.head()"
   ]
  },
  {
   "cell_type": "markdown",
   "id": "68a2297d",
   "metadata": {},
   "source": [
    "##### Export as .pkl"
   ]
  },
  {
   "cell_type": "code",
   "execution_count": 23,
   "id": "b466b879",
   "metadata": {},
   "outputs": [],
   "source": [
    "# Export the new dataframe\n",
    "op_active_customers.to_pickle(os.path.join(path, '02 Data','Prepared Data', 'op_with_profiles.pkl'))"
   ]
  }
 ],
 "metadata": {
  "kernelspec": {
   "display_name": "Python 3 (ipykernel)",
   "language": "python",
   "name": "python3"
  },
  "language_info": {
   "codemirror_mode": {
    "name": "ipython",
    "version": 3
   },
   "file_extension": ".py",
   "mimetype": "text/x-python",
   "name": "python",
   "nbconvert_exporter": "python",
   "pygments_lexer": "ipython3",
   "version": "3.11.5"
  }
 },
 "nbformat": 4,
 "nbformat_minor": 5
}
